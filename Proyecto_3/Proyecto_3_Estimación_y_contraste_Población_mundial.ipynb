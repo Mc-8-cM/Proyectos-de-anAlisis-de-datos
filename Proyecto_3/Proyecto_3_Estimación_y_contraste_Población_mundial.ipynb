{
  "nbformat": 4,
  "nbformat_minor": 0,
  "metadata": {
    "colab": {
      "provenance": []
    },
    "kernelspec": {
      "name": "python3",
      "display_name": "Python 3"
    },
    "language_info": {
      "name": "python"
    }
  },
  "cells": [
    {
      "cell_type": "markdown",
      "source": [
        "# **Población mundial: Estimación y contraste de hipótesis**"
      ],
      "metadata": {
        "id": "l2yQubKXTgep"
      }
    },
    {
      "cell_type": "markdown",
      "source": [
        "**Objetivo**"
      ],
      "metadata": {
        "id": "qBqBgs2ZOaKY"
      }
    },
    {
      "cell_type": "markdown",
      "source": [
        "El objetivo de este proyecto es utilizar inferencia estadística para estimar y constrastar hipótesis.\n"
      ],
      "metadata": {
        "id": "AUBUWB6UQnJq"
      }
    },
    {
      "cell_type": "markdown",
      "source": [
        "**1) Inferencia estadística**"
      ],
      "metadata": {
        "id": "YU89ycjTPN8u"
      }
    },
    {
      "cell_type": "markdown",
      "source": [
        "Antes de ir de lleno a la práctica, es necesario introducirnos en los aspectos teóricos que nos permitirán tanto entender el proceso como poder analizar los resultados.\n",
        "\n",
        "La inferencia estadística es una rama de la estadística trabaja con una muestra de la población con el objetivo de obtener generalizaciones y conclusiones sobre esa población.\n",
        "\n",
        "Así, la estadística inferencial infiere las propiedades de una población se  mediante la estimación y el contraste de hipótesis.\n"
      ],
      "metadata": {
        "id": "cKbcI0xcPUmn"
      }
    },
    {
      "cell_type": "markdown",
      "source": [
        "Para ahondar más en la estimación y en el contraste de hipótesis, se tomará como base el contenido brindado por la profesora Lucileima Rosales, relatora del Bootcamp \"Fundamentos de análisis de datos\" y experta en estadística."
      ],
      "metadata": {
        "id": "fVZBJeGBTJPI"
      }
    },
    {
      "cell_type": "markdown",
      "source": [
        "**1.1) Estimación**"
      ],
      "metadata": {
        "id": "osKJt6MwSU30"
      }
    },
    {
      "cell_type": "markdown",
      "source": [
        "En estadística, la estimación es el procedimiento mediante el cual se busca conocer el valor de un parámetro poblacional (como la media o la proporción), utilizando los datos disponibles de una muestra representativa.\n",
        "\n",
        "Existen dos tipos principales de estimación, que veremos a continuación:\n",
        "\n"
      ],
      "metadata": {
        "id": "0o73KqH-SUEN"
      }
    },
    {
      "cell_type": "markdown",
      "source": [
        "**1.1.1) Estimación puntual**"
      ],
      "metadata": {
        "id": "a1rYqytPSbNu"
      }
    },
    {
      "cell_type": "markdown",
      "source": [
        "Consiste en utilizar un único valor calculado a partir de la muestra para estimar el parámetro poblacional.\n",
        "\n",
        "Por ejemplo:\n",
        "\n",
        "La media muestral (x_barra) se usa para estimar la media poblacional 𝜇.\n"
      ],
      "metadata": {
        "id": "LhstCNKVSeNt"
      }
    },
    {
      "cell_type": "markdown",
      "source": [
        "**1.1.2)Estimación por intervalo**"
      ],
      "metadata": {
        "id": "RzY9-hTiSsIu"
      }
    },
    {
      "cell_type": "markdown",
      "source": [
        "Se establece un rango de valores (intervalo) dentro del que se espera encontrar el parámetro de la población. Esto, con un determinado nivel de confianza, ya sea 90%, 95% o 99%."
      ],
      "metadata": {
        "id": "M1sUBAyPSuqF"
      }
    },
    {
      "cell_type": "markdown",
      "source": [
        "De acuerdo a José Francisco López de Economipedia.com,\n",
        "\n",
        "\"El contraste de hipótesis es un tipo de modelo utilizado en inferencia estadística cuyo objetivo es comprobar si una estimación se adapta a los valores poblacionales. En palabras menos abstractas, el objetivo de los métodos de contraste de hipótesis es verificar si una estimación se adapta a la realidad de forma ‘fiable’.\"\n",
        "\n",
        "\"En todo contraste de hipótesis existen dos supuestos. La hipótesis nula (H0) que recoge la idea de que una variable tiene un valor predeterminado, y la hipótesis alternativa(H1), que es la que se acepta cuando se rechaza la hipótesis nula (H0).\"\n",
        "\n",
        "(Extraído de https://economipedia.com/definiciones/contraste-de-hipotesis.html)"
      ],
      "metadata": {
        "id": "vat-_080VqtZ"
      }
    },
    {
      "cell_type": "markdown",
      "source": [
        "**2) Descripción de la base de datos**"
      ],
      "metadata": {
        "id": "OmLqNC9OQxl8"
      }
    },
    {
      "cell_type": "markdown",
      "source": [
        "Ahora que ya revisamos de forma muy introductoria la teoría de la inferencia estadística, pasaremos a poner en práctica la estimación y contraste de hipótesis a través de python.\n",
        "\n",
        "Para el cumplimiento del objetivo, se utiliza una base de datos sobre la población mundial. Ésta se puede obtener en la plataforma Kaggle, en el enlace que sigue:"
      ],
      "metadata": {
        "id": "AHl2VOtOQ-Ku"
      }
    },
    {
      "cell_type": "markdown",
      "source": [
        "https://www.kaggle.com/datasets/iamsouravbanerjee/world-population-dataset"
      ],
      "metadata": {
        "id": "Jj3Rsu8cRQTM"
      }
    },
    {
      "cell_type": "markdown",
      "source": [
        "**2.1) Glosario del conjunto de datos**\n",
        "\n",
        "* Rank: Lugar en el ranking por población.\n",
        "* CCA3: Código de país/territorios de 3 dígitos.\n",
        "* Country/Territories: País/territorios.\n",
        "* Capital: Capital.\n",
        "* Continent: Continente.\n",
        "* 2022 Population: Población del país/territorios en el año 2022.\n",
        "* 2020 Population: Población del país/territorios en el año 2020.\n",
        "* 2015 Population: Población del país/territorios en el año 2015.\n",
        "* 2010 Population: Población del país/territorios en el año 2010.\n",
        "* 2000 Population: Población del país/territorios en el año 2000.\n",
        "* 1990 Population: Población del país/territorios en el año 1990.\n",
        "* 1980 Population: Población del país/territorios en el año 1980.\n",
        "* 1970 Population: Población del país/territorios en el año 1970.\n",
        "* Area (km²): Tamaño del área del país/territorios en kilómetros cuadrados.\n",
        "* Density (per km²): Densidad de población por kilómetro cuadrado.\n",
        "* Growth Rate: Tasa de crecimiento poblacional por país/territorios.\n",
        "* World Population Percentage: El porcentaje de población por cada país/territorios."
      ],
      "metadata": {
        "id": "vlKfJBSZRZvV"
      }
    },
    {
      "cell_type": "markdown",
      "source": [
        "**3) Carga del conjunto de datos**"
      ],
      "metadata": {
        "id": "eqTMRUPkU8Ft"
      }
    },
    {
      "cell_type": "markdown",
      "source": [
        "Una vez descargada la basse de datos en el enlace https://www.kaggle.com/datasets/iamsouravbanerjee/world-population-dataset, la cargaremos con el siguiente código:"
      ],
      "metadata": {
        "id": "CmKXllK2W6Tb"
      }
    },
    {
      "cell_type": "code",
      "source": [
        "from google.colab import files\n",
        "uploaded = files.upload()"
      ],
      "metadata": {
        "colab": {
          "base_uri": "https://localhost:8080/",
          "height": 73
        },
        "id": "ZaX8nPkpWQax",
        "outputId": "69678e67-a141-4116-e968-bc0fca451f2d"
      },
      "execution_count": null,
      "outputs": [
        {
          "output_type": "display_data",
          "data": {
            "text/plain": [
              "<IPython.core.display.HTML object>"
            ],
            "text/html": [
              "\n",
              "     <input type=\"file\" id=\"files-6f0f377a-25fb-4e9e-a24b-0c6788288efc\" name=\"files[]\" multiple disabled\n",
              "        style=\"border:none\" />\n",
              "     <output id=\"result-6f0f377a-25fb-4e9e-a24b-0c6788288efc\">\n",
              "      Upload widget is only available when the cell has been executed in the\n",
              "      current browser session. Please rerun this cell to enable.\n",
              "      </output>\n",
              "      <script>// Copyright 2017 Google LLC\n",
              "//\n",
              "// Licensed under the Apache License, Version 2.0 (the \"License\");\n",
              "// you may not use this file except in compliance with the License.\n",
              "// You may obtain a copy of the License at\n",
              "//\n",
              "//      http://www.apache.org/licenses/LICENSE-2.0\n",
              "//\n",
              "// Unless required by applicable law or agreed to in writing, software\n",
              "// distributed under the License is distributed on an \"AS IS\" BASIS,\n",
              "// WITHOUT WARRANTIES OR CONDITIONS OF ANY KIND, either express or implied.\n",
              "// See the License for the specific language governing permissions and\n",
              "// limitations under the License.\n",
              "\n",
              "/**\n",
              " * @fileoverview Helpers for google.colab Python module.\n",
              " */\n",
              "(function(scope) {\n",
              "function span(text, styleAttributes = {}) {\n",
              "  const element = document.createElement('span');\n",
              "  element.textContent = text;\n",
              "  for (const key of Object.keys(styleAttributes)) {\n",
              "    element.style[key] = styleAttributes[key];\n",
              "  }\n",
              "  return element;\n",
              "}\n",
              "\n",
              "// Max number of bytes which will be uploaded at a time.\n",
              "const MAX_PAYLOAD_SIZE = 100 * 1024;\n",
              "\n",
              "function _uploadFiles(inputId, outputId) {\n",
              "  const steps = uploadFilesStep(inputId, outputId);\n",
              "  const outputElement = document.getElementById(outputId);\n",
              "  // Cache steps on the outputElement to make it available for the next call\n",
              "  // to uploadFilesContinue from Python.\n",
              "  outputElement.steps = steps;\n",
              "\n",
              "  return _uploadFilesContinue(outputId);\n",
              "}\n",
              "\n",
              "// This is roughly an async generator (not supported in the browser yet),\n",
              "// where there are multiple asynchronous steps and the Python side is going\n",
              "// to poll for completion of each step.\n",
              "// This uses a Promise to block the python side on completion of each step,\n",
              "// then passes the result of the previous step as the input to the next step.\n",
              "function _uploadFilesContinue(outputId) {\n",
              "  const outputElement = document.getElementById(outputId);\n",
              "  const steps = outputElement.steps;\n",
              "\n",
              "  const next = steps.next(outputElement.lastPromiseValue);\n",
              "  return Promise.resolve(next.value.promise).then((value) => {\n",
              "    // Cache the last promise value to make it available to the next\n",
              "    // step of the generator.\n",
              "    outputElement.lastPromiseValue = value;\n",
              "    return next.value.response;\n",
              "  });\n",
              "}\n",
              "\n",
              "/**\n",
              " * Generator function which is called between each async step of the upload\n",
              " * process.\n",
              " * @param {string} inputId Element ID of the input file picker element.\n",
              " * @param {string} outputId Element ID of the output display.\n",
              " * @return {!Iterable<!Object>} Iterable of next steps.\n",
              " */\n",
              "function* uploadFilesStep(inputId, outputId) {\n",
              "  const inputElement = document.getElementById(inputId);\n",
              "  inputElement.disabled = false;\n",
              "\n",
              "  const outputElement = document.getElementById(outputId);\n",
              "  outputElement.innerHTML = '';\n",
              "\n",
              "  const pickedPromise = new Promise((resolve) => {\n",
              "    inputElement.addEventListener('change', (e) => {\n",
              "      resolve(e.target.files);\n",
              "    });\n",
              "  });\n",
              "\n",
              "  const cancel = document.createElement('button');\n",
              "  inputElement.parentElement.appendChild(cancel);\n",
              "  cancel.textContent = 'Cancel upload';\n",
              "  const cancelPromise = new Promise((resolve) => {\n",
              "    cancel.onclick = () => {\n",
              "      resolve(null);\n",
              "    };\n",
              "  });\n",
              "\n",
              "  // Wait for the user to pick the files.\n",
              "  const files = yield {\n",
              "    promise: Promise.race([pickedPromise, cancelPromise]),\n",
              "    response: {\n",
              "      action: 'starting',\n",
              "    }\n",
              "  };\n",
              "\n",
              "  cancel.remove();\n",
              "\n",
              "  // Disable the input element since further picks are not allowed.\n",
              "  inputElement.disabled = true;\n",
              "\n",
              "  if (!files) {\n",
              "    return {\n",
              "      response: {\n",
              "        action: 'complete',\n",
              "      }\n",
              "    };\n",
              "  }\n",
              "\n",
              "  for (const file of files) {\n",
              "    const li = document.createElement('li');\n",
              "    li.append(span(file.name, {fontWeight: 'bold'}));\n",
              "    li.append(span(\n",
              "        `(${file.type || 'n/a'}) - ${file.size} bytes, ` +\n",
              "        `last modified: ${\n",
              "            file.lastModifiedDate ? file.lastModifiedDate.toLocaleDateString() :\n",
              "                                    'n/a'} - `));\n",
              "    const percent = span('0% done');\n",
              "    li.appendChild(percent);\n",
              "\n",
              "    outputElement.appendChild(li);\n",
              "\n",
              "    const fileDataPromise = new Promise((resolve) => {\n",
              "      const reader = new FileReader();\n",
              "      reader.onload = (e) => {\n",
              "        resolve(e.target.result);\n",
              "      };\n",
              "      reader.readAsArrayBuffer(file);\n",
              "    });\n",
              "    // Wait for the data to be ready.\n",
              "    let fileData = yield {\n",
              "      promise: fileDataPromise,\n",
              "      response: {\n",
              "        action: 'continue',\n",
              "      }\n",
              "    };\n",
              "\n",
              "    // Use a chunked sending to avoid message size limits. See b/62115660.\n",
              "    let position = 0;\n",
              "    do {\n",
              "      const length = Math.min(fileData.byteLength - position, MAX_PAYLOAD_SIZE);\n",
              "      const chunk = new Uint8Array(fileData, position, length);\n",
              "      position += length;\n",
              "\n",
              "      const base64 = btoa(String.fromCharCode.apply(null, chunk));\n",
              "      yield {\n",
              "        response: {\n",
              "          action: 'append',\n",
              "          file: file.name,\n",
              "          data: base64,\n",
              "        },\n",
              "      };\n",
              "\n",
              "      let percentDone = fileData.byteLength === 0 ?\n",
              "          100 :\n",
              "          Math.round((position / fileData.byteLength) * 100);\n",
              "      percent.textContent = `${percentDone}% done`;\n",
              "\n",
              "    } while (position < fileData.byteLength);\n",
              "  }\n",
              "\n",
              "  // All done.\n",
              "  yield {\n",
              "    response: {\n",
              "      action: 'complete',\n",
              "    }\n",
              "  };\n",
              "}\n",
              "\n",
              "scope.google = scope.google || {};\n",
              "scope.google.colab = scope.google.colab || {};\n",
              "scope.google.colab._files = {\n",
              "  _uploadFiles,\n",
              "  _uploadFilesContinue,\n",
              "};\n",
              "})(self);\n",
              "</script> "
            ]
          },
          "metadata": {}
        },
        {
          "output_type": "stream",
          "name": "stdout",
          "text": [
            "Saving World_population.csv to World_population (1).csv\n"
          ]
        }
      ]
    },
    {
      "cell_type": "markdown",
      "source": [
        "**4) Lectura del conjunto de datos**"
      ],
      "metadata": {
        "id": "FlP6q236U-nZ"
      }
    },
    {
      "cell_type": "markdown",
      "source": [
        "Ahora leemos el archivo csv que acabamos de cargar."
      ],
      "metadata": {
        "id": "4KV26oH2XMlr"
      }
    },
    {
      "cell_type": "code",
      "source": [
        "#Importar librerías\n",
        "import pandas as pd # Librería para la manipulación y análisis de datos (tablas, CSV, Excel, SQL, entre otros.)\n",
        "import numpy as np # Librería para el cálculo numérico eficiente y manejo de arreglos/matrices\n",
        "import matplotlib.pyplot as plt\n",
        "import seaborn as sns\n",
        "\n",
        "# Cargar dataset\n",
        "#Para archivos almacenados en formato CSV: pd.read_csv\n",
        "#df objeto del tipo DataFrame\n",
        "\n",
        "# Cargar datos\n",
        "df = pd.read_csv(\"world_population.csv\")\n",
        "df.columns = df.columns.str.strip()  # Quita espacios al inicio y final\n",
        "df"
      ],
      "metadata": {
        "id": "s5lfVt_gW6Tp",
        "colab": {
          "base_uri": "https://localhost:8080/",
          "height": 548
        },
        "outputId": "c9073e74-5de2-4933-c9d2-45486f3c99fe"
      },
      "execution_count": null,
      "outputs": [
        {
          "output_type": "execute_result",
          "data": {
            "text/plain": [
              "     Rank CCA3  Country/Territory           Capital Continent  \\\n",
              "0      36  AFG        Afghanistan             Kabul      Asia   \n",
              "1     138  ALB            Albania            Tirana    Europe   \n",
              "2      34  DZA            Algeria           Algiers    Africa   \n",
              "3     213  ASM     American Samoa         Pago Pago   Oceania   \n",
              "4     203  AND            Andorra  Andorra la Vella    Europe   \n",
              "..    ...  ...                ...               ...       ...   \n",
              "229   226  WLF  Wallis and Futuna          Mata-Utu   Oceania   \n",
              "230   172  ESH     Western Sahara          El Aaiún    Africa   \n",
              "231    46  YEM              Yemen             Sanaa      Asia   \n",
              "232    63  ZMB             Zambia            Lusaka    Africa   \n",
              "233    74  ZWE           Zimbabwe            Harare    Africa   \n",
              "\n",
              "     2022 Population  2020 Population  2015 Population  2010 Population  \\\n",
              "0           41128771         38972230         33753499         28189672   \n",
              "1            2842321          2866849          2882481          2913399   \n",
              "2           44903225         43451666         39543154         35856344   \n",
              "3              44273            46189            51368            54849   \n",
              "4              79824            77700            71746            71519   \n",
              "..               ...              ...              ...              ...   \n",
              "229            11572            11655            12182            13142   \n",
              "230           575986           556048           491824           413296   \n",
              "231         33696614         32284046         28516545         24743946   \n",
              "232         20017675         18927715         16248230         13792086   \n",
              "233         16320537         15669666         14154937         12839771   \n",
              "\n",
              "     2000 Population  1990 Population  1980 Population  1970 Population  \\\n",
              "0           19542982         10694796         12486631         10752971   \n",
              "1            3182021          3295066          2941651          2324731   \n",
              "2           30774621         25518074         18739378         13795915   \n",
              "3              58230            47818            32886            27075   \n",
              "4              66097            53569            35611            19860   \n",
              "..               ...              ...              ...              ...   \n",
              "229            14723            13454            11315             9377   \n",
              "230           270375           178529           116775            76371   \n",
              "231         18628700         13375121          9204938          6843607   \n",
              "232          9891136          7686401          5720438          4281671   \n",
              "233         11834676         10113893          7049926          5202918   \n",
              "\n",
              "     Area (km²)  Density (per km²)  Growth Rate  World Population Percentage  \n",
              "0        652230            63.0587       1.0257                         0.52  \n",
              "1         28748            98.8702       0.9957                         0.04  \n",
              "2       2381741            18.8531       1.0164                         0.56  \n",
              "3           199           222.4774       0.9831                         0.00  \n",
              "4           468           170.5641       1.0100                         0.00  \n",
              "..          ...                ...          ...                          ...  \n",
              "229         142            81.4930       0.9953                         0.00  \n",
              "230      266000             2.1654       1.0184                         0.01  \n",
              "231      527968            63.8232       1.0217                         0.42  \n",
              "232      752612            26.5976       1.0280                         0.25  \n",
              "233      390757            41.7665       1.0204                         0.20  \n",
              "\n",
              "[234 rows x 17 columns]"
            ],
            "text/html": [
              "\n",
              "  <div id=\"df-152bfb68-158b-44c2-a57e-00e922e4db68\" class=\"colab-df-container\">\n",
              "    <div>\n",
              "<style scoped>\n",
              "    .dataframe tbody tr th:only-of-type {\n",
              "        vertical-align: middle;\n",
              "    }\n",
              "\n",
              "    .dataframe tbody tr th {\n",
              "        vertical-align: top;\n",
              "    }\n",
              "\n",
              "    .dataframe thead th {\n",
              "        text-align: right;\n",
              "    }\n",
              "</style>\n",
              "<table border=\"1\" class=\"dataframe\">\n",
              "  <thead>\n",
              "    <tr style=\"text-align: right;\">\n",
              "      <th></th>\n",
              "      <th>Rank</th>\n",
              "      <th>CCA3</th>\n",
              "      <th>Country/Territory</th>\n",
              "      <th>Capital</th>\n",
              "      <th>Continent</th>\n",
              "      <th>2022 Population</th>\n",
              "      <th>2020 Population</th>\n",
              "      <th>2015 Population</th>\n",
              "      <th>2010 Population</th>\n",
              "      <th>2000 Population</th>\n",
              "      <th>1990 Population</th>\n",
              "      <th>1980 Population</th>\n",
              "      <th>1970 Population</th>\n",
              "      <th>Area (km²)</th>\n",
              "      <th>Density (per km²)</th>\n",
              "      <th>Growth Rate</th>\n",
              "      <th>World Population Percentage</th>\n",
              "    </tr>\n",
              "  </thead>\n",
              "  <tbody>\n",
              "    <tr>\n",
              "      <th>0</th>\n",
              "      <td>36</td>\n",
              "      <td>AFG</td>\n",
              "      <td>Afghanistan</td>\n",
              "      <td>Kabul</td>\n",
              "      <td>Asia</td>\n",
              "      <td>41128771</td>\n",
              "      <td>38972230</td>\n",
              "      <td>33753499</td>\n",
              "      <td>28189672</td>\n",
              "      <td>19542982</td>\n",
              "      <td>10694796</td>\n",
              "      <td>12486631</td>\n",
              "      <td>10752971</td>\n",
              "      <td>652230</td>\n",
              "      <td>63.0587</td>\n",
              "      <td>1.0257</td>\n",
              "      <td>0.52</td>\n",
              "    </tr>\n",
              "    <tr>\n",
              "      <th>1</th>\n",
              "      <td>138</td>\n",
              "      <td>ALB</td>\n",
              "      <td>Albania</td>\n",
              "      <td>Tirana</td>\n",
              "      <td>Europe</td>\n",
              "      <td>2842321</td>\n",
              "      <td>2866849</td>\n",
              "      <td>2882481</td>\n",
              "      <td>2913399</td>\n",
              "      <td>3182021</td>\n",
              "      <td>3295066</td>\n",
              "      <td>2941651</td>\n",
              "      <td>2324731</td>\n",
              "      <td>28748</td>\n",
              "      <td>98.8702</td>\n",
              "      <td>0.9957</td>\n",
              "      <td>0.04</td>\n",
              "    </tr>\n",
              "    <tr>\n",
              "      <th>2</th>\n",
              "      <td>34</td>\n",
              "      <td>DZA</td>\n",
              "      <td>Algeria</td>\n",
              "      <td>Algiers</td>\n",
              "      <td>Africa</td>\n",
              "      <td>44903225</td>\n",
              "      <td>43451666</td>\n",
              "      <td>39543154</td>\n",
              "      <td>35856344</td>\n",
              "      <td>30774621</td>\n",
              "      <td>25518074</td>\n",
              "      <td>18739378</td>\n",
              "      <td>13795915</td>\n",
              "      <td>2381741</td>\n",
              "      <td>18.8531</td>\n",
              "      <td>1.0164</td>\n",
              "      <td>0.56</td>\n",
              "    </tr>\n",
              "    <tr>\n",
              "      <th>3</th>\n",
              "      <td>213</td>\n",
              "      <td>ASM</td>\n",
              "      <td>American Samoa</td>\n",
              "      <td>Pago Pago</td>\n",
              "      <td>Oceania</td>\n",
              "      <td>44273</td>\n",
              "      <td>46189</td>\n",
              "      <td>51368</td>\n",
              "      <td>54849</td>\n",
              "      <td>58230</td>\n",
              "      <td>47818</td>\n",
              "      <td>32886</td>\n",
              "      <td>27075</td>\n",
              "      <td>199</td>\n",
              "      <td>222.4774</td>\n",
              "      <td>0.9831</td>\n",
              "      <td>0.00</td>\n",
              "    </tr>\n",
              "    <tr>\n",
              "      <th>4</th>\n",
              "      <td>203</td>\n",
              "      <td>AND</td>\n",
              "      <td>Andorra</td>\n",
              "      <td>Andorra la Vella</td>\n",
              "      <td>Europe</td>\n",
              "      <td>79824</td>\n",
              "      <td>77700</td>\n",
              "      <td>71746</td>\n",
              "      <td>71519</td>\n",
              "      <td>66097</td>\n",
              "      <td>53569</td>\n",
              "      <td>35611</td>\n",
              "      <td>19860</td>\n",
              "      <td>468</td>\n",
              "      <td>170.5641</td>\n",
              "      <td>1.0100</td>\n",
              "      <td>0.00</td>\n",
              "    </tr>\n",
              "    <tr>\n",
              "      <th>...</th>\n",
              "      <td>...</td>\n",
              "      <td>...</td>\n",
              "      <td>...</td>\n",
              "      <td>...</td>\n",
              "      <td>...</td>\n",
              "      <td>...</td>\n",
              "      <td>...</td>\n",
              "      <td>...</td>\n",
              "      <td>...</td>\n",
              "      <td>...</td>\n",
              "      <td>...</td>\n",
              "      <td>...</td>\n",
              "      <td>...</td>\n",
              "      <td>...</td>\n",
              "      <td>...</td>\n",
              "      <td>...</td>\n",
              "      <td>...</td>\n",
              "    </tr>\n",
              "    <tr>\n",
              "      <th>229</th>\n",
              "      <td>226</td>\n",
              "      <td>WLF</td>\n",
              "      <td>Wallis and Futuna</td>\n",
              "      <td>Mata-Utu</td>\n",
              "      <td>Oceania</td>\n",
              "      <td>11572</td>\n",
              "      <td>11655</td>\n",
              "      <td>12182</td>\n",
              "      <td>13142</td>\n",
              "      <td>14723</td>\n",
              "      <td>13454</td>\n",
              "      <td>11315</td>\n",
              "      <td>9377</td>\n",
              "      <td>142</td>\n",
              "      <td>81.4930</td>\n",
              "      <td>0.9953</td>\n",
              "      <td>0.00</td>\n",
              "    </tr>\n",
              "    <tr>\n",
              "      <th>230</th>\n",
              "      <td>172</td>\n",
              "      <td>ESH</td>\n",
              "      <td>Western Sahara</td>\n",
              "      <td>El Aaiún</td>\n",
              "      <td>Africa</td>\n",
              "      <td>575986</td>\n",
              "      <td>556048</td>\n",
              "      <td>491824</td>\n",
              "      <td>413296</td>\n",
              "      <td>270375</td>\n",
              "      <td>178529</td>\n",
              "      <td>116775</td>\n",
              "      <td>76371</td>\n",
              "      <td>266000</td>\n",
              "      <td>2.1654</td>\n",
              "      <td>1.0184</td>\n",
              "      <td>0.01</td>\n",
              "    </tr>\n",
              "    <tr>\n",
              "      <th>231</th>\n",
              "      <td>46</td>\n",
              "      <td>YEM</td>\n",
              "      <td>Yemen</td>\n",
              "      <td>Sanaa</td>\n",
              "      <td>Asia</td>\n",
              "      <td>33696614</td>\n",
              "      <td>32284046</td>\n",
              "      <td>28516545</td>\n",
              "      <td>24743946</td>\n",
              "      <td>18628700</td>\n",
              "      <td>13375121</td>\n",
              "      <td>9204938</td>\n",
              "      <td>6843607</td>\n",
              "      <td>527968</td>\n",
              "      <td>63.8232</td>\n",
              "      <td>1.0217</td>\n",
              "      <td>0.42</td>\n",
              "    </tr>\n",
              "    <tr>\n",
              "      <th>232</th>\n",
              "      <td>63</td>\n",
              "      <td>ZMB</td>\n",
              "      <td>Zambia</td>\n",
              "      <td>Lusaka</td>\n",
              "      <td>Africa</td>\n",
              "      <td>20017675</td>\n",
              "      <td>18927715</td>\n",
              "      <td>16248230</td>\n",
              "      <td>13792086</td>\n",
              "      <td>9891136</td>\n",
              "      <td>7686401</td>\n",
              "      <td>5720438</td>\n",
              "      <td>4281671</td>\n",
              "      <td>752612</td>\n",
              "      <td>26.5976</td>\n",
              "      <td>1.0280</td>\n",
              "      <td>0.25</td>\n",
              "    </tr>\n",
              "    <tr>\n",
              "      <th>233</th>\n",
              "      <td>74</td>\n",
              "      <td>ZWE</td>\n",
              "      <td>Zimbabwe</td>\n",
              "      <td>Harare</td>\n",
              "      <td>Africa</td>\n",
              "      <td>16320537</td>\n",
              "      <td>15669666</td>\n",
              "      <td>14154937</td>\n",
              "      <td>12839771</td>\n",
              "      <td>11834676</td>\n",
              "      <td>10113893</td>\n",
              "      <td>7049926</td>\n",
              "      <td>5202918</td>\n",
              "      <td>390757</td>\n",
              "      <td>41.7665</td>\n",
              "      <td>1.0204</td>\n",
              "      <td>0.20</td>\n",
              "    </tr>\n",
              "  </tbody>\n",
              "</table>\n",
              "<p>234 rows × 17 columns</p>\n",
              "</div>\n",
              "    <div class=\"colab-df-buttons\">\n",
              "\n",
              "  <div class=\"colab-df-container\">\n",
              "    <button class=\"colab-df-convert\" onclick=\"convertToInteractive('df-152bfb68-158b-44c2-a57e-00e922e4db68')\"\n",
              "            title=\"Convert this dataframe to an interactive table.\"\n",
              "            style=\"display:none;\">\n",
              "\n",
              "  <svg xmlns=\"http://www.w3.org/2000/svg\" height=\"24px\" viewBox=\"0 -960 960 960\">\n",
              "    <path d=\"M120-120v-720h720v720H120Zm60-500h600v-160H180v160Zm220 220h160v-160H400v160Zm0 220h160v-160H400v160ZM180-400h160v-160H180v160Zm440 0h160v-160H620v160ZM180-180h160v-160H180v160Zm440 0h160v-160H620v160Z\"/>\n",
              "  </svg>\n",
              "    </button>\n",
              "\n",
              "  <style>\n",
              "    .colab-df-container {\n",
              "      display:flex;\n",
              "      gap: 12px;\n",
              "    }\n",
              "\n",
              "    .colab-df-convert {\n",
              "      background-color: #E8F0FE;\n",
              "      border: none;\n",
              "      border-radius: 50%;\n",
              "      cursor: pointer;\n",
              "      display: none;\n",
              "      fill: #1967D2;\n",
              "      height: 32px;\n",
              "      padding: 0 0 0 0;\n",
              "      width: 32px;\n",
              "    }\n",
              "\n",
              "    .colab-df-convert:hover {\n",
              "      background-color: #E2EBFA;\n",
              "      box-shadow: 0px 1px 2px rgba(60, 64, 67, 0.3), 0px 1px 3px 1px rgba(60, 64, 67, 0.15);\n",
              "      fill: #174EA6;\n",
              "    }\n",
              "\n",
              "    .colab-df-buttons div {\n",
              "      margin-bottom: 4px;\n",
              "    }\n",
              "\n",
              "    [theme=dark] .colab-df-convert {\n",
              "      background-color: #3B4455;\n",
              "      fill: #D2E3FC;\n",
              "    }\n",
              "\n",
              "    [theme=dark] .colab-df-convert:hover {\n",
              "      background-color: #434B5C;\n",
              "      box-shadow: 0px 1px 3px 1px rgba(0, 0, 0, 0.15);\n",
              "      filter: drop-shadow(0px 1px 2px rgba(0, 0, 0, 0.3));\n",
              "      fill: #FFFFFF;\n",
              "    }\n",
              "  </style>\n",
              "\n",
              "    <script>\n",
              "      const buttonEl =\n",
              "        document.querySelector('#df-152bfb68-158b-44c2-a57e-00e922e4db68 button.colab-df-convert');\n",
              "      buttonEl.style.display =\n",
              "        google.colab.kernel.accessAllowed ? 'block' : 'none';\n",
              "\n",
              "      async function convertToInteractive(key) {\n",
              "        const element = document.querySelector('#df-152bfb68-158b-44c2-a57e-00e922e4db68');\n",
              "        const dataTable =\n",
              "          await google.colab.kernel.invokeFunction('convertToInteractive',\n",
              "                                                    [key], {});\n",
              "        if (!dataTable) return;\n",
              "\n",
              "        const docLinkHtml = 'Like what you see? Visit the ' +\n",
              "          '<a target=\"_blank\" href=https://colab.research.google.com/notebooks/data_table.ipynb>data table notebook</a>'\n",
              "          + ' to learn more about interactive tables.';\n",
              "        element.innerHTML = '';\n",
              "        dataTable['output_type'] = 'display_data';\n",
              "        await google.colab.output.renderOutput(dataTable, element);\n",
              "        const docLink = document.createElement('div');\n",
              "        docLink.innerHTML = docLinkHtml;\n",
              "        element.appendChild(docLink);\n",
              "      }\n",
              "    </script>\n",
              "  </div>\n",
              "\n",
              "\n",
              "    <div id=\"df-c7e5f384-af76-4616-8605-2a48df4b7dc0\">\n",
              "      <button class=\"colab-df-quickchart\" onclick=\"quickchart('df-c7e5f384-af76-4616-8605-2a48df4b7dc0')\"\n",
              "                title=\"Suggest charts\"\n",
              "                style=\"display:none;\">\n",
              "\n",
              "<svg xmlns=\"http://www.w3.org/2000/svg\" height=\"24px\"viewBox=\"0 0 24 24\"\n",
              "     width=\"24px\">\n",
              "    <g>\n",
              "        <path d=\"M19 3H5c-1.1 0-2 .9-2 2v14c0 1.1.9 2 2 2h14c1.1 0 2-.9 2-2V5c0-1.1-.9-2-2-2zM9 17H7v-7h2v7zm4 0h-2V7h2v10zm4 0h-2v-4h2v4z\"/>\n",
              "    </g>\n",
              "</svg>\n",
              "      </button>\n",
              "\n",
              "<style>\n",
              "  .colab-df-quickchart {\n",
              "      --bg-color: #E8F0FE;\n",
              "      --fill-color: #1967D2;\n",
              "      --hover-bg-color: #E2EBFA;\n",
              "      --hover-fill-color: #174EA6;\n",
              "      --disabled-fill-color: #AAA;\n",
              "      --disabled-bg-color: #DDD;\n",
              "  }\n",
              "\n",
              "  [theme=dark] .colab-df-quickchart {\n",
              "      --bg-color: #3B4455;\n",
              "      --fill-color: #D2E3FC;\n",
              "      --hover-bg-color: #434B5C;\n",
              "      --hover-fill-color: #FFFFFF;\n",
              "      --disabled-bg-color: #3B4455;\n",
              "      --disabled-fill-color: #666;\n",
              "  }\n",
              "\n",
              "  .colab-df-quickchart {\n",
              "    background-color: var(--bg-color);\n",
              "    border: none;\n",
              "    border-radius: 50%;\n",
              "    cursor: pointer;\n",
              "    display: none;\n",
              "    fill: var(--fill-color);\n",
              "    height: 32px;\n",
              "    padding: 0;\n",
              "    width: 32px;\n",
              "  }\n",
              "\n",
              "  .colab-df-quickchart:hover {\n",
              "    background-color: var(--hover-bg-color);\n",
              "    box-shadow: 0 1px 2px rgba(60, 64, 67, 0.3), 0 1px 3px 1px rgba(60, 64, 67, 0.15);\n",
              "    fill: var(--button-hover-fill-color);\n",
              "  }\n",
              "\n",
              "  .colab-df-quickchart-complete:disabled,\n",
              "  .colab-df-quickchart-complete:disabled:hover {\n",
              "    background-color: var(--disabled-bg-color);\n",
              "    fill: var(--disabled-fill-color);\n",
              "    box-shadow: none;\n",
              "  }\n",
              "\n",
              "  .colab-df-spinner {\n",
              "    border: 2px solid var(--fill-color);\n",
              "    border-color: transparent;\n",
              "    border-bottom-color: var(--fill-color);\n",
              "    animation:\n",
              "      spin 1s steps(1) infinite;\n",
              "  }\n",
              "\n",
              "  @keyframes spin {\n",
              "    0% {\n",
              "      border-color: transparent;\n",
              "      border-bottom-color: var(--fill-color);\n",
              "      border-left-color: var(--fill-color);\n",
              "    }\n",
              "    20% {\n",
              "      border-color: transparent;\n",
              "      border-left-color: var(--fill-color);\n",
              "      border-top-color: var(--fill-color);\n",
              "    }\n",
              "    30% {\n",
              "      border-color: transparent;\n",
              "      border-left-color: var(--fill-color);\n",
              "      border-top-color: var(--fill-color);\n",
              "      border-right-color: var(--fill-color);\n",
              "    }\n",
              "    40% {\n",
              "      border-color: transparent;\n",
              "      border-right-color: var(--fill-color);\n",
              "      border-top-color: var(--fill-color);\n",
              "    }\n",
              "    60% {\n",
              "      border-color: transparent;\n",
              "      border-right-color: var(--fill-color);\n",
              "    }\n",
              "    80% {\n",
              "      border-color: transparent;\n",
              "      border-right-color: var(--fill-color);\n",
              "      border-bottom-color: var(--fill-color);\n",
              "    }\n",
              "    90% {\n",
              "      border-color: transparent;\n",
              "      border-bottom-color: var(--fill-color);\n",
              "    }\n",
              "  }\n",
              "</style>\n",
              "\n",
              "      <script>\n",
              "        async function quickchart(key) {\n",
              "          const quickchartButtonEl =\n",
              "            document.querySelector('#' + key + ' button');\n",
              "          quickchartButtonEl.disabled = true;  // To prevent multiple clicks.\n",
              "          quickchartButtonEl.classList.add('colab-df-spinner');\n",
              "          try {\n",
              "            const charts = await google.colab.kernel.invokeFunction(\n",
              "                'suggestCharts', [key], {});\n",
              "          } catch (error) {\n",
              "            console.error('Error during call to suggestCharts:', error);\n",
              "          }\n",
              "          quickchartButtonEl.classList.remove('colab-df-spinner');\n",
              "          quickchartButtonEl.classList.add('colab-df-quickchart-complete');\n",
              "        }\n",
              "        (() => {\n",
              "          let quickchartButtonEl =\n",
              "            document.querySelector('#df-c7e5f384-af76-4616-8605-2a48df4b7dc0 button');\n",
              "          quickchartButtonEl.style.display =\n",
              "            google.colab.kernel.accessAllowed ? 'block' : 'none';\n",
              "        })();\n",
              "      </script>\n",
              "    </div>\n",
              "\n",
              "  <div id=\"id_e381938c-f027-48e3-8f74-476724eb9c4a\">\n",
              "    <style>\n",
              "      .colab-df-generate {\n",
              "        background-color: #E8F0FE;\n",
              "        border: none;\n",
              "        border-radius: 50%;\n",
              "        cursor: pointer;\n",
              "        display: none;\n",
              "        fill: #1967D2;\n",
              "        height: 32px;\n",
              "        padding: 0 0 0 0;\n",
              "        width: 32px;\n",
              "      }\n",
              "\n",
              "      .colab-df-generate:hover {\n",
              "        background-color: #E2EBFA;\n",
              "        box-shadow: 0px 1px 2px rgba(60, 64, 67, 0.3), 0px 1px 3px 1px rgba(60, 64, 67, 0.15);\n",
              "        fill: #174EA6;\n",
              "      }\n",
              "\n",
              "      [theme=dark] .colab-df-generate {\n",
              "        background-color: #3B4455;\n",
              "        fill: #D2E3FC;\n",
              "      }\n",
              "\n",
              "      [theme=dark] .colab-df-generate:hover {\n",
              "        background-color: #434B5C;\n",
              "        box-shadow: 0px 1px 3px 1px rgba(0, 0, 0, 0.15);\n",
              "        filter: drop-shadow(0px 1px 2px rgba(0, 0, 0, 0.3));\n",
              "        fill: #FFFFFF;\n",
              "      }\n",
              "    </style>\n",
              "    <button class=\"colab-df-generate\" onclick=\"generateWithVariable('df')\"\n",
              "            title=\"Generate code using this dataframe.\"\n",
              "            style=\"display:none;\">\n",
              "\n",
              "  <svg xmlns=\"http://www.w3.org/2000/svg\" height=\"24px\"viewBox=\"0 0 24 24\"\n",
              "       width=\"24px\">\n",
              "    <path d=\"M7,19H8.4L18.45,9,17,7.55,7,17.6ZM5,21V16.75L18.45,3.32a2,2,0,0,1,2.83,0l1.4,1.43a1.91,1.91,0,0,1,.58,1.4,1.91,1.91,0,0,1-.58,1.4L9.25,21ZM18.45,9,17,7.55Zm-12,3A5.31,5.31,0,0,0,4.9,8.1,5.31,5.31,0,0,0,1,6.5,5.31,5.31,0,0,0,4.9,4.9,5.31,5.31,0,0,0,6.5,1,5.31,5.31,0,0,0,8.1,4.9,5.31,5.31,0,0,0,12,6.5,5.46,5.46,0,0,0,6.5,12Z\"/>\n",
              "  </svg>\n",
              "    </button>\n",
              "    <script>\n",
              "      (() => {\n",
              "      const buttonEl =\n",
              "        document.querySelector('#id_e381938c-f027-48e3-8f74-476724eb9c4a button.colab-df-generate');\n",
              "      buttonEl.style.display =\n",
              "        google.colab.kernel.accessAllowed ? 'block' : 'none';\n",
              "\n",
              "      buttonEl.onclick = () => {\n",
              "        google.colab.notebook.generateWithVariable('df');\n",
              "      }\n",
              "      })();\n",
              "    </script>\n",
              "  </div>\n",
              "\n",
              "    </div>\n",
              "  </div>\n"
            ],
            "application/vnd.google.colaboratory.intrinsic+json": {
              "type": "dataframe",
              "variable_name": "df",
              "summary": "{\n  \"name\": \"df\",\n  \"rows\": 234,\n  \"fields\": [\n    {\n      \"column\": \"Rank\",\n      \"properties\": {\n        \"dtype\": \"number\",\n        \"std\": 67,\n        \"min\": 1,\n        \"max\": 234,\n        \"num_unique_values\": 234,\n        \"samples\": [\n          184,\n          20,\n          218\n        ],\n        \"semantic_type\": \"\",\n        \"description\": \"\"\n      }\n    },\n    {\n      \"column\": \"CCA3\",\n      \"properties\": {\n        \"dtype\": \"string\",\n        \"num_unique_values\": 234,\n        \"samples\": [\n          \"GUF\",\n          \"THA\",\n          \"SMR\"\n        ],\n        \"semantic_type\": \"\",\n        \"description\": \"\"\n      }\n    },\n    {\n      \"column\": \"Country/Territory\",\n      \"properties\": {\n        \"dtype\": \"string\",\n        \"num_unique_values\": 234,\n        \"samples\": [\n          \"French Guiana\",\n          \"Thailand\",\n          \"San Marino\"\n        ],\n        \"semantic_type\": \"\",\n        \"description\": \"\"\n      }\n    },\n    {\n      \"column\": \"Capital\",\n      \"properties\": {\n        \"dtype\": \"string\",\n        \"num_unique_values\": 234,\n        \"samples\": [\n          \"Cayenne\",\n          \"Bangkok\",\n          \"San Marino\"\n        ],\n        \"semantic_type\": \"\",\n        \"description\": \"\"\n      }\n    },\n    {\n      \"column\": \"Continent\",\n      \"properties\": {\n        \"dtype\": \"category\",\n        \"num_unique_values\": 6,\n        \"samples\": [\n          \"Asia\",\n          \"Europe\",\n          \"South America\"\n        ],\n        \"semantic_type\": \"\",\n        \"description\": \"\"\n      }\n    },\n    {\n      \"column\": \"2022 Population\",\n      \"properties\": {\n        \"dtype\": \"number\",\n        \"std\": 136766424,\n        \"min\": 510,\n        \"max\": 1425887337,\n        \"num_unique_values\": 234,\n        \"samples\": [\n          304557,\n          71697030,\n          33660\n        ],\n        \"semantic_type\": \"\",\n        \"description\": \"\"\n      }\n    },\n    {\n      \"column\": \"2020 Population\",\n      \"properties\": {\n        \"dtype\": \"number\",\n        \"std\": 135589876,\n        \"min\": 520,\n        \"max\": 1424929781,\n        \"num_unique_values\": 234,\n        \"samples\": [\n          290969,\n          71475664,\n          34007\n        ],\n        \"semantic_type\": \"\",\n        \"description\": \"\"\n      }\n    },\n    {\n      \"column\": \"2015 Population\",\n      \"properties\": {\n        \"dtype\": \"number\",\n        \"std\": 130404992,\n        \"min\": 564,\n        \"max\": 1393715448,\n        \"num_unique_values\": 234,\n        \"samples\": [\n          257026,\n          70294397,\n          33570\n        ],\n        \"semantic_type\": \"\",\n        \"description\": \"\"\n      }\n    },\n    {\n      \"column\": \"2010 Population\",\n      \"properties\": {\n        \"dtype\": \"number\",\n        \"std\": 124218487,\n        \"min\": 596,\n        \"max\": 1348191368,\n        \"num_unique_values\": 234,\n        \"samples\": [\n          228453,\n          68270489,\n          31608\n        ],\n        \"semantic_type\": \"\",\n        \"description\": \"\"\n      }\n    },\n    {\n      \"column\": \"2000 Population\",\n      \"properties\": {\n        \"dtype\": \"number\",\n        \"std\": 111698206,\n        \"min\": 651,\n        \"max\": 1264099069,\n        \"num_unique_values\": 234,\n        \"samples\": [\n          164351,\n          63066603,\n          26823\n        ],\n        \"semantic_type\": \"\",\n        \"description\": \"\"\n      }\n    },\n    {\n      \"column\": \"1990 Population\",\n      \"properties\": {\n        \"dtype\": \"number\",\n        \"std\": 97832173,\n        \"min\": 700,\n        \"max\": 1153704252,\n        \"num_unique_values\": 234,\n        \"samples\": [\n          113931,\n          55228410,\n          23132\n        ],\n        \"semantic_type\": \"\",\n        \"description\": \"\"\n      }\n    },\n    {\n      \"column\": \"1980 Population\",\n      \"properties\": {\n        \"dtype\": \"number\",\n        \"std\": 81785186,\n        \"min\": 733,\n        \"max\": 982372466,\n        \"num_unique_values\": 234,\n        \"samples\": [\n          66825,\n          45737753,\n          21346\n        ],\n        \"semantic_type\": \"\",\n        \"description\": \"\"\n      }\n    },\n    {\n      \"column\": \"1970 Population\",\n      \"properties\": {\n        \"dtype\": \"number\",\n        \"std\": 67795091,\n        \"min\": 752,\n        \"max\": 822534450,\n        \"num_unique_values\": 234,\n        \"samples\": [\n          46484,\n          35791728,\n          18169\n        ],\n        \"semantic_type\": \"\",\n        \"description\": \"\"\n      }\n    },\n    {\n      \"column\": \"Area (km\\u00b2)\",\n      \"properties\": {\n        \"dtype\": \"number\",\n        \"std\": 1761840,\n        \"min\": 1,\n        \"max\": 17098242,\n        \"num_unique_values\": 233,\n        \"samples\": [\n          245857,\n          241550,\n          752612\n        ],\n        \"semantic_type\": \"\",\n        \"description\": \"\"\n      }\n    },\n    {\n      \"column\": \"Density (per km\\u00b2)\",\n      \"properties\": {\n        \"dtype\": \"number\",\n        \"std\": 2066.1219036046123,\n        \"min\": 0.0261,\n        \"max\": 23172.2667,\n        \"num_unique_values\": 234,\n        \"samples\": [\n          3.6459,\n          139.7276,\n          551.8033\n        ],\n        \"semantic_type\": \"\",\n        \"description\": \"\"\n      }\n    },\n    {\n      \"column\": \"Growth Rate\",\n      \"properties\": {\n        \"dtype\": \"number\",\n        \"std\": 0.01338498453399876,\n        \"min\": 0.912,\n        \"max\": 1.0691,\n        \"num_unique_values\": 180,\n        \"samples\": [\n          1.0038,\n          1.0005,\n          1.0232\n        ],\n        \"semantic_type\": \"\",\n        \"description\": \"\"\n      }\n    },\n    {\n      \"column\": \"World Population Percentage\",\n      \"properties\": {\n        \"dtype\": \"number\",\n        \"std\": 1.7149767768102147,\n        \"min\": 0.0,\n        \"max\": 17.88,\n        \"num_unique_values\": 70,\n        \"samples\": [\n          0.48,\n          0.52,\n          0.47\n        ],\n        \"semantic_type\": \"\",\n        \"description\": \"\"\n      }\n    }\n  ]\n}"
            }
          },
          "metadata": {},
          "execution_count": 43
        }
      ]
    },
    {
      "cell_type": "markdown",
      "source": [
        "**5) Intervalos de confianza**"
      ],
      "metadata": {
        "id": "H9N6UyQ1VAG5"
      }
    },
    {
      "cell_type": "markdown",
      "source": [
        "Ahora pasamos a la estadística propiamente tal, tomando el conjunto de datos sobre población mundial para ejecutar lo revisado hasta acá."
      ],
      "metadata": {
        "id": "x3I2LRq1Xc0_"
      }
    },
    {
      "cell_type": "markdown",
      "source": [
        "A continuación se calcula el intervalo de confianza para la media de tres variables:\n",
        "\n",
        "* Población en el año 2022\n",
        "\n",
        "* Densidad (por km²)\n",
        "\n",
        "* Tasa de crecimiento"
      ],
      "metadata": {
        "id": "lHEGNZuPX6xB"
      }
    },
    {
      "cell_type": "markdown",
      "source": [
        "**5.1) Intervalo de Confianza — Media - Población en el año 2022**"
      ],
      "metadata": {
        "id": "ghvhxg-hUyp_"
      }
    },
    {
      "cell_type": "code",
      "source": [
        "import numpy as np\n",
        "import pandas as pd\n",
        "from scipy import stats\n",
        "import matplotlib.pyplot as plt\n",
        "\n",
        "df = pd.read_csv('World_population.csv')\n",
        "Population_2022 = df['2022 Population'].dropna()\n",
        "n = len(Population_2022)\n",
        "xbar = Population_2022.mean()\n",
        "s = Population_2022.std(ddof=1)\n",
        "alpha = 0.05\n",
        "df_res = n - 1\n",
        "t_crit = stats.t.ppf(1 - alpha/2, df_res)\n",
        "se = s / np.sqrt(n)\n",
        "ci = (xbar - t_crit * se, xbar + t_crit * se)\n",
        "\n",
        "print(f\"Media muestral = {xbar:.2f} habitantes\")\n",
        "print(f\"95% CI = [{ci[0]:.2f}, {ci[1]:.2f}] habitantes\")"
      ],
      "metadata": {
        "colab": {
          "base_uri": "https://localhost:8080/"
        },
        "id": "2jyrGI7eU6Le",
        "outputId": "920728e8-2ea2-41a5-e67f-3e2db3dab838"
      },
      "execution_count": null,
      "outputs": [
        {
          "output_type": "stream",
          "name": "stdout",
          "text": [
            "Media muestral = 34074414.71 habitantes\n",
            "95% CI = [16459467.30, 51689362.12] habitantes\n"
          ]
        }
      ]
    },
    {
      "cell_type": "markdown",
      "source": [
        "**5.2) Intervalo de Confianza — Media - Densidad (por km²)**"
      ],
      "metadata": {
        "id": "zwTRPHzyU38Q"
      }
    },
    {
      "cell_type": "code",
      "source": [
        "import numpy as np\n",
        "import pandas as pd\n",
        "from scipy import stats\n",
        "import matplotlib.pyplot as plt\n",
        "\n",
        "df = pd.read_csv('World_population.csv')\n",
        "Density = df['Density (per km²)'].dropna()\n",
        "n = len(Density)\n",
        "xbar = Density.mean()\n",
        "s = Density.std(ddof=1)\n",
        "alpha = 0.05\n",
        "df_res = n - 1\n",
        "t_crit = stats.t.ppf(1 - alpha/2, df_res)\n",
        "se = s / np.sqrt(n)\n",
        "ci = (xbar - t_crit * se, xbar + t_crit * se)\n",
        "\n",
        "print(f\"Media muestral = {xbar:.2f} por km²\")\n",
        "print(f\"95% CI = [{ci[0]:.2f}, {ci[1]:.2f}] por km²\")"
      ],
      "metadata": {
        "colab": {
          "base_uri": "https://localhost:8080/"
        },
        "id": "1spq9hXPVcAO",
        "outputId": "eb1076d7-ab43-43e9-e06a-318a172d4604"
      },
      "execution_count": null,
      "outputs": [
        {
          "output_type": "stream",
          "name": "stdout",
          "text": [
            "Media muestral = 452.13 por km²\n",
            "95% CI = [186.02, 718.23] por km²\n"
          ]
        }
      ]
    },
    {
      "cell_type": "markdown",
      "source": [
        "**5.3) Intervalo de Confianza — Media - Tasa de crecimiento**"
      ],
      "metadata": {
        "id": "GaJfSR59aIoG"
      }
    },
    {
      "cell_type": "code",
      "source": [
        "import numpy as np\n",
        "import pandas as pd\n",
        "from scipy import stats\n",
        "import matplotlib.pyplot as plt\n",
        "\n",
        "df = pd.read_csv('World_population.csv')\n",
        "Growth_rate = df['Growth Rate'].dropna()\n",
        "n = len(Growth_rate)\n",
        "xbar = Growth_rate.mean()\n",
        "s = Growth_rate.std(ddof=1)\n",
        "alpha = 0.05\n",
        "df_res = n - 1\n",
        "t_crit = stats.t.ppf(1 - alpha/2, df_res)\n",
        "se = s / np.sqrt(n)\n",
        "ci = (xbar - t_crit * se, xbar + t_crit * se)\n",
        "\n",
        "print(f\"Media muestral = {xbar:.2f}\")\n",
        "print(f\"95% CI = [{ci[0]:.2f}, {ci[1]:.2f}]\")"
      ],
      "metadata": {
        "colab": {
          "base_uri": "https://localhost:8080/"
        },
        "id": "6UZiLEUX68f_",
        "outputId": "b159f436-4edc-4df9-d75f-856eabf2685b"
      },
      "execution_count": null,
      "outputs": [
        {
          "output_type": "stream",
          "name": "stdout",
          "text": [
            "Media muestral = 1.01\n",
            "95% CI = [1.01, 1.01]\n"
          ]
        }
      ]
    },
    {
      "cell_type": "markdown",
      "source": [
        "**6) Pruebas de Hipótesis**"
      ],
      "metadata": {
        "id": "tqwA_k7TVha1"
      }
    },
    {
      "cell_type": "markdown",
      "source": [
        "A continuación se realiza la prueba de hipótesis para la media de las tres variables trabajadas en el apartado anterior.\n",
        "\n",
        "* Población en el año 2022\n",
        "\n",
        "* Densidad (por km²)\n",
        "\n",
        "* Tasa de crecimiento\n",
        "\n"
      ],
      "metadata": {
        "id": "iF_DPTX-bEtL"
      }
    },
    {
      "cell_type": "markdown",
      "source": [
        "**6.1) Prueba de Hipótesis — Media - Población en el año 2022**"
      ],
      "metadata": {
        "id": "nQtBMJKzVlVu"
      }
    },
    {
      "cell_type": "code",
      "source": [
        "import numpy as np\n",
        "from scipy import stats\n",
        "\n",
        "# Supuesto valor poblacional (por ejemplo, se dice que la edad promedio es 30 años)\n",
        "mu0 = 34074414.71\n",
        "\n",
        "# Estadísticos muestrales\n",
        "xbar = Population_2022.mean()        # media muestral\n",
        "s = Population_2022.std(ddof=1)      # desviación estándar muestral\n",
        "n = len(Population_2022)             # tamaño de muestra\n",
        "alpha = 0.05              # nivel de significancia\n",
        "\n",
        "# Hipótesis:\n",
        "# H0: μ = 30  (la edad promedio de los pasajeros es igual a 30 años)\n",
        "# H1: μ ≠ 30  (la edad promedio de los pasajeros es diferente a 30 años)\n",
        "\n",
        "# Estadístico t\n",
        "t_stat = (xbar - mu0) / (s / np.sqrt(n))\n",
        "\n",
        "# Valor crítico bilateral\n",
        "tcrit = stats.t.ppf(1 - alpha / 2, df=n - 1)\n",
        "\n",
        "# p-valor bilateral\n",
        "p_val = 2 * (1 - stats.t.cdf(abs(t_stat), df=n - 1))\n",
        "\n",
        "# Resultados\n",
        "print(f\"t‑estadístico = {t_stat:.3f}, t_crítico = ±{tcrit:.3f}, p‑valor = {p_val:.3f}\")\n",
        "print(\"Rechazar H0\" if abs(t_stat) > tcrit else \"No rechazar H0\")"
      ],
      "metadata": {
        "colab": {
          "base_uri": "https://localhost:8080/"
        },
        "id": "014wfdpBVxue",
        "outputId": "cfed6e61-2fe8-45a0-d996-2b2716326946"
      },
      "execution_count": null,
      "outputs": [
        {
          "output_type": "stream",
          "name": "stdout",
          "text": [
            "t‑estadístico = -0.000, t_crítico = ±1.970, p‑valor = 1.000\n",
            "No rechazar H0\n"
          ]
        }
      ]
    },
    {
      "cell_type": "markdown",
      "source": [
        "**Gráfico**"
      ],
      "metadata": {
        "id": "ThoDDo5GVySx"
      }
    },
    {
      "cell_type": "code",
      "source": [
        "x = np.linspace(-4,4,500)\n",
        "y = stats.t.pdf(x, df=n-1)\n",
        "plt.plot(x, y)\n",
        "plt.fill_between(x, y, where=(x > tcrit) | (x < -tcrit), color='red', alpha=0.4)\n",
        "plt.axvline(t_stat, color='blue')\n",
        "plt.title(\"Prueba t bilateral para Population_2022\")\n",
        "plt.show()"
      ],
      "metadata": {
        "colab": {
          "base_uri": "https://localhost:8080/",
          "height": 452
        },
        "id": "BQtS2iQiV0z2",
        "outputId": "9fa70c57-6d6d-4c13-ccf4-4e97d4699819"
      },
      "execution_count": null,
      "outputs": [
        {
          "output_type": "display_data",
          "data": {
            "text/plain": [
              "<Figure size 640x480 with 1 Axes>"
            ],
            "image/png": "[encoded data removed]"
          },
          "metadata": {}
        }
      ]
    },
    {
      "cell_type": "markdown",
      "source": [
        "**6.2) Prueba de Hipótesis — Media - Densidad (por km²)**"
      ],
      "metadata": {
        "id": "Oxxr1LCKV3Jo"
      }
    },
    {
      "cell_type": "code",
      "source": [
        "import numpy as np\n",
        "from scipy import stats\n",
        "\n",
        "# Supuesto valor poblacional (por ejemplo, se dice que la edad promedio es 30 años)\n",
        "mu0 = 452.13\n",
        "\n",
        "# Estadísticos muestrales\n",
        "xbar = Density.mean()        # media muestral\n",
        "s = Density.std(ddof=1)      # desviación estándar muestral\n",
        "n = len(Density)             # tamaño de muestra\n",
        "alpha = 0.05              # nivel de significancia\n",
        "\n",
        "# Hipótesis:\n",
        "# H0: μ = 30  (la edad promedio de los pasajeros es igual a 30 años)\n",
        "# H1: μ ≠ 30  (la edad promedio de los pasajeros es diferente a 30 años)\n",
        "\n",
        "# Estadístico t\n",
        "t_stat = (xbar - mu0) / (s / np.sqrt(n))\n",
        "\n",
        "# Valor crítico bilateral\n",
        "tcrit = stats.t.ppf(1 - alpha / 2, df=n - 1)\n",
        "\n",
        "# p-valor bilateral\n",
        "p_val = 2 * (1 - stats.t.cdf(abs(t_stat), df=n - 1))\n",
        "\n",
        "# Resultados\n",
        "print(f\"t‑estadístico = {t_stat:.3f}, t_crítico = ±{tcrit:.3f}, p‑valor = {p_val:.3f}\")\n",
        "print(\"Rechazar H0\" if abs(t_stat) > tcrit else \"No rechazar H0\")"
      ],
      "metadata": {
        "colab": {
          "base_uri": "https://localhost:8080/"
        },
        "id": "ePY4aOjBV7Sl",
        "outputId": "c668aa3f-1e2e-481b-b45b-a6b9131b8448"
      },
      "execution_count": null,
      "outputs": [
        {
          "output_type": "stream",
          "name": "stdout",
          "text": [
            "t‑estadístico = -0.000, t_crítico = ±1.970, p‑valor = 1.000\n",
            "No rechazar H0\n"
          ]
        }
      ]
    },
    {
      "cell_type": "markdown",
      "source": [
        "**Gráfico**"
      ],
      "metadata": {
        "id": "VZbtZDuXb1Bv"
      }
    },
    {
      "cell_type": "code",
      "source": [
        "x = np.linspace(-4,4,500)\n",
        "y = stats.t.pdf(x, df=n-1)\n",
        "plt.plot(x, y)\n",
        "plt.fill_between(x, y, where=(x > tcrit) | (x < -tcrit), color='red', alpha=0.4)\n",
        "plt.axvline(t_stat, color='blue')\n",
        "plt.title(\"Prueba t bilateral para Population_2022\")\n",
        "plt.show()"
      ],
      "metadata": {
        "colab": {
          "base_uri": "https://localhost:8080/",
          "height": 452
        },
        "id": "mrSqwo7A6dzo",
        "outputId": "f259cca6-7980-4a49-f1c7-b97f5ab7a0e1"
      },
      "execution_count": null,
      "outputs": [
        {
          "output_type": "display_data",
          "data": {
            "text/plain": [
              "<Figure size 640x480 with 1 Axes>"
            ],
            "image/png": "[encoded data removed]"
          },
          "metadata": {}
        }
      ]
    },
    {
      "cell_type": "markdown",
      "source": [
        "**6.3) Prueba de Hipótesis — Media - Tasa de crecimiento**\n"
      ],
      "metadata": {
        "id": "A7lTMB-4brvn"
      }
    },
    {
      "cell_type": "code",
      "source": [
        "import numpy as np\n",
        "from scipy import stats\n",
        "\n",
        "# Supuesto valor poblacional (por ejemplo, se dice que la edad promedio es 30 años)\n",
        "mu0 = 1.01\n",
        "\n",
        "# Estadísticos muestrales\n",
        "xbar = Growth_rate.mean()        # media muestral\n",
        "s = Growth_rate.std(ddof=1)      # desviación estándar muestral\n",
        "n = len(Growth_rate)             # tamaño de muestra\n",
        "alpha = 0.05              # nivel de significancia\n",
        "\n",
        "# Hipótesis:\n",
        "# H0: μ = 30  (la edad promedio de los pasajeros es igual a 30 años)\n",
        "# H1: μ ≠ 30  (la edad promedio de los pasajeros es diferente a 30 años)\n",
        "\n",
        "# Estadístico t\n",
        "t_stat = (xbar - mu0) / (s / np.sqrt(n))\n",
        "\n",
        "# Valor crítico bilateral\n",
        "tcrit = stats.t.ppf(1 - alpha / 2, df=n - 1)\n",
        "\n",
        "# p-valor bilateral\n",
        "p_val = 2 * (1 - stats.t.cdf(abs(t_stat), df=n - 1))\n",
        "\n",
        "# Resultados\n",
        "print(f\"t‑estadístico = {t_stat:.3f}, t_crítico = ±{tcrit:.3f}, p‑valor = {p_val:.3f}\")\n",
        "print(\"Rechazar H0\" if abs(t_stat) > tcrit else \"No rechazar H0\")"
      ],
      "metadata": {
        "colab": {
          "base_uri": "https://localhost:8080/"
        },
        "id": "5yAsUUS66oaL",
        "outputId": "0d31776f-ed0b-48c5-f618-0959d6a63ec9"
      },
      "execution_count": null,
      "outputs": [
        {
          "output_type": "stream",
          "name": "stdout",
          "text": [
            "t‑estadístico = -0.483, t_crítico = ±1.970, p‑valor = 0.630\n",
            "No rechazar H0\n"
          ]
        }
      ]
    },
    {
      "cell_type": "markdown",
      "source": [
        "**Gráfico**"
      ],
      "metadata": {
        "id": "yJOgImmwb7C7"
      }
    },
    {
      "cell_type": "code",
      "source": [
        "x = np.linspace(-4,4,500)\n",
        "y = stats.t.pdf(x, df=n-1)\n",
        "plt.plot(x, y)\n",
        "plt.fill_between(x, y, where=(x > tcrit) | (x < -tcrit), color='red', alpha=0.4)\n",
        "plt.axvline(t_stat, color='blue')\n",
        "plt.title(\"Prueba t bilateral para Growth_rate\")\n",
        "plt.show()"
      ],
      "metadata": {
        "colab": {
          "base_uri": "https://localhost:8080/",
          "height": 452
        },
        "id": "dDmY30EE8IvZ",
        "outputId": "b8b8149f-0b58-40ff-e68b-51cb9057c5a0"
      },
      "execution_count": null,
      "outputs": [
        {
          "output_type": "display_data",
          "data": {
            "text/plain": [
              "<Figure size 640x480 with 1 Axes>"
            ],
            "image/png": "[encoded data removed]"
          },
          "metadata": {}
        }
      ]
    },
    {
      "cell_type": "markdown",
      "source": [
        "**7) Conclusión**"
      ],
      "metadata": {
        "id": "M1xqHc-9YBdo"
      }
    },
    {
      "cell_type": "markdown",
      "source": [
        "Este proyecto presenta las bases para estimar y contrastar hipótesis a través de Python y ocupando como ejemplo una base de datos de la población mundial.\n",
        "\n",
        "De esta forma, se estimó y contrastó hipótesis para tres variables del conjunto de datos.\n",
        "\n",
        "Con ello se pudo inferir estadísticamente características poblacionales a partir de muestras.\n",
        "\n",
        "En una próxima fase de este proyecto, se profundizará en las interpretaciones de cada caso. Por ahora, se sientan las bases de este aprendizaje."
      ],
      "metadata": {
        "id": "HpPhSTfiXSSB"
      }
    }
  ]
}